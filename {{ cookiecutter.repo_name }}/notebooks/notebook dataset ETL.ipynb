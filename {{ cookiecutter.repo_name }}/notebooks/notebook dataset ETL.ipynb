{
 "cells": [
  {
   "cell_type": "markdown",
   "id": "0264059f-08de-4830-8a81-83702abf64f3",
   "metadata": {
    "editable": true,
    "scrolled": true,
    "slideshow": {
     "slide_type": ""
    },
    "tags": []
   },
   "source": [
    "## Importamos las bibliotecas necesarias"
   ]
  },
  {
   "cell_type": "code",
   "execution_count": 32,
   "id": "8275b298-9359-4095-8e97-582a26e0a4da",
   "metadata": {
    "editable": true,
    "scrolled": true,
    "slideshow": {
     "slide_type": ""
    },
    "tags": []
   },
   "outputs": [],
   "source": [
    "import pandas as pd\n",
    "import numpy as np    \n",
    "from sklearn.model_selection import train_test_split\n",
    "from sklearn.linear_model import LinearRegression\n",
    "from sklearn.metrics import mean_squared_error, r2_score"
   ]
  },
  {
   "cell_type": "markdown",
   "id": "73eb9edc-e864-4cb8-b142-2fb4f5b0c6bf",
   "metadata": {
    "editable": true,
    "slideshow": {
     "slide_type": ""
    },
    "tags": []
   },
   "source": [
    "### Leemos los datos históricos de BTC desde un archivo CSV "
   ]
  },
  {
   "cell_type": "markdown",
   "id": "e12ae610",
   "metadata": {},
   "source": [
    "se muetran las primeras 5 filas"
   ]
  },
  {
   "cell_type": "code",
   "execution_count": 33,
   "id": "0b349875",
   "metadata": {},
   "outputs": [
    {
     "name": "stdout",
     "output_type": "stream",
     "text": [
      "                             Date       Open       High        Low      Close  \\\n",
      "0      lunes, 21 de marzo de 2016  413417999  413417999  410381012  413307007   \n",
      "1     martes, 22 de marzo de 2016  413131989  418375000  412531006  418088989   \n",
      "2  miércoles, 23 de marzo de 2016  418161011  419268005  417364014  418040985   \n",
      "3     jueves, 24 de marzo de 2016  418424011  418679993  415485992  416394012   \n",
      "4    viernes, 25 de marzo de 2016  416507996  418079987  415558014  417177002   \n",
      "\n",
      "     Volume  \n",
      "0  61655400  \n",
      "1  66813300  \n",
      "2  61444200  \n",
      "3  68346704  \n",
      "4  52560000  \n"
     ]
    }
   ],
   "source": [
    "import pandas as pd\n",
    "\n",
    "\n",
    "\n",
    "# Ruta hacia el archivo CSV\n",
    "ruta_archivo = \"C:/Users/SILCA/OneDrive/Escritorio/dataset/BTC-USD.csv\"\n",
    "\n",
    "# Cargar los datos en un DataFrame\n",
    "df = pd.read_csv(ruta_archivo)\n",
    "\n",
    "print(df.head())"
   ]
  },
  {
   "cell_type": "markdown",
   "id": "78d5565c",
   "metadata": {},
   "source": [
    "### imprimimos el Dataframe"
   ]
  },
  {
   "cell_type": "code",
   "execution_count": 34,
   "id": "810f1c2e",
   "metadata": {},
   "outputs": [
    {
     "name": "stdout",
     "output_type": "stream",
     "text": [
      "                                Date         Open         High          Low  \\\n",
      "0         lunes, 21 de marzo de 2016    413417999    413417999    410381012   \n",
      "1        martes, 22 de marzo de 2016    413131989    418375000    412531006   \n",
      "2     miércoles, 23 de marzo de 2016    418161011    419268005    417364014   \n",
      "3        jueves, 24 de marzo de 2016    418424011    418679993    415485992   \n",
      "4       viernes, 25 de marzo de 2016    416507996    418079987    415558014   \n",
      "...                              ...          ...          ...          ...   \n",
      "2855     martes, 16 de enero de 2024  42499335938  43566273438  42085996094   \n",
      "2856  miércoles, 17 de enero de 2024  43132101563  43189890625  42189308594   \n",
      "2857     jueves, 18 de enero de 2024  42742312500  42876347656  40631171875   \n",
      "2858    viernes, 19 de enero de 2024  41278460938  42134160156  40297457031   \n",
      "2859    domingo, 21 de enero de 2024  41671488281  41693160156  41615140625   \n",
      "\n",
      "            Close       Volume  \n",
      "0       413307007     61655400  \n",
      "1       418088989     66813300  \n",
      "2       418040985     61444200  \n",
      "3       416394012     68346704  \n",
      "4       417177002     52560000  \n",
      "...           ...          ...  \n",
      "2855  43154945313  24062872740  \n",
      "2856  42742652344  20851232595  \n",
      "2857  41262058594  25218357242  \n",
      "2858  41618406250  25752407154  \n",
      "2859  41623695313  11274039296  \n",
      "\n",
      "[2860 rows x 6 columns]\n"
     ]
    }
   ],
   "source": [
    "import pandas as pd\n",
    "from sklearn.model_selection import train_test_split\n",
    "from sklearn.linear_model import LinearRegression\n",
    "\n",
    "\n",
    "# Ruta hacia el archivo CSV\n",
    "ruta_archivo = \"C:/Users/SILCA/OneDrive/Escritorio/dataset/BTC-USD.csv\"\n",
    "\n",
    "# Cargar los datos en un DataFrame\n",
    "df = pd.read_csv(ruta_archivo)\n",
    "print(df)"
   ]
  },
  {
   "cell_type": "markdown",
   "id": "ddca7f67",
   "metadata": {},
   "source": [
    "### Verificamos que los datos se hayan cargado correctamente para mostrar las primeras filas del DataFrame."
   ]
  },
  {
   "cell_type": "code",
   "execution_count": 35,
   "id": "f2303d9b",
   "metadata": {},
   "outputs": [
    {
     "data": {
      "text/html": [
       "<div>\n",
       "<style scoped>\n",
       "    .dataframe tbody tr th:only-of-type {\n",
       "        vertical-align: middle;\n",
       "    }\n",
       "\n",
       "    .dataframe tbody tr th {\n",
       "        vertical-align: top;\n",
       "    }\n",
       "\n",
       "    .dataframe thead th {\n",
       "        text-align: right;\n",
       "    }\n",
       "</style>\n",
       "<table border=\"1\" class=\"dataframe\">\n",
       "  <thead>\n",
       "    <tr style=\"text-align: right;\">\n",
       "      <th></th>\n",
       "      <th>Date</th>\n",
       "      <th>Open</th>\n",
       "      <th>High</th>\n",
       "      <th>Low</th>\n",
       "      <th>Close</th>\n",
       "      <th>Volume</th>\n",
       "    </tr>\n",
       "  </thead>\n",
       "  <tbody>\n",
       "    <tr>\n",
       "      <th>0</th>\n",
       "      <td>lunes, 21 de marzo de 2016</td>\n",
       "      <td>413417999</td>\n",
       "      <td>413417999</td>\n",
       "      <td>410381012</td>\n",
       "      <td>413307007</td>\n",
       "      <td>61655400</td>\n",
       "    </tr>\n",
       "    <tr>\n",
       "      <th>1</th>\n",
       "      <td>martes, 22 de marzo de 2016</td>\n",
       "      <td>413131989</td>\n",
       "      <td>418375000</td>\n",
       "      <td>412531006</td>\n",
       "      <td>418088989</td>\n",
       "      <td>66813300</td>\n",
       "    </tr>\n",
       "    <tr>\n",
       "      <th>2</th>\n",
       "      <td>miércoles, 23 de marzo de 2016</td>\n",
       "      <td>418161011</td>\n",
       "      <td>419268005</td>\n",
       "      <td>417364014</td>\n",
       "      <td>418040985</td>\n",
       "      <td>61444200</td>\n",
       "    </tr>\n",
       "    <tr>\n",
       "      <th>3</th>\n",
       "      <td>jueves, 24 de marzo de 2016</td>\n",
       "      <td>418424011</td>\n",
       "      <td>418679993</td>\n",
       "      <td>415485992</td>\n",
       "      <td>416394012</td>\n",
       "      <td>68346704</td>\n",
       "    </tr>\n",
       "    <tr>\n",
       "      <th>4</th>\n",
       "      <td>viernes, 25 de marzo de 2016</td>\n",
       "      <td>416507996</td>\n",
       "      <td>418079987</td>\n",
       "      <td>415558014</td>\n",
       "      <td>417177002</td>\n",
       "      <td>52560000</td>\n",
       "    </tr>\n",
       "  </tbody>\n",
       "</table>\n",
       "</div>"
      ],
      "text/plain": [
       "                             Date       Open       High        Low      Close  \\\n",
       "0      lunes, 21 de marzo de 2016  413417999  413417999  410381012  413307007   \n",
       "1     martes, 22 de marzo de 2016  413131989  418375000  412531006  418088989   \n",
       "2  miércoles, 23 de marzo de 2016  418161011  419268005  417364014  418040985   \n",
       "3     jueves, 24 de marzo de 2016  418424011  418679993  415485992  416394012   \n",
       "4    viernes, 25 de marzo de 2016  416507996  418079987  415558014  417177002   \n",
       "\n",
       "     Volume  \n",
       "0  61655400  \n",
       "1  66813300  \n",
       "2  61444200  \n",
       "3  68346704  \n",
       "4  52560000  "
      ]
     },
     "execution_count": 35,
     "metadata": {},
     "output_type": "execute_result"
    }
   ],
   "source": [
    "df.head()"
   ]
  },
  {
   "cell_type": "markdown",
   "id": "eefcf1e0",
   "metadata": {},
   "source": [
    "### Examinamos las columnas disponibles en el DataFrame"
   ]
  },
  {
   "cell_type": "code",
   "execution_count": 36,
   "id": "f8e8f22e",
   "metadata": {},
   "outputs": [
    {
     "data": {
      "text/plain": [
       "Index(['Date', 'Open', 'High', 'Low', 'Close', 'Volume'], dtype='object')"
      ]
     },
     "execution_count": 36,
     "metadata": {},
     "output_type": "execute_result"
    }
   ],
   "source": [
    "df.columns"
   ]
  },
  {
   "cell_type": "markdown",
   "id": "4d63370c",
   "metadata": {},
   "source": [
    "### Cambiamos nombres de columnas"
   ]
  },
  {
   "cell_type": "code",
   "execution_count": 40,
   "id": "40aa4c15",
   "metadata": {},
   "outputs": [
    {
     "name": "stdout",
     "output_type": "stream",
     "text": [
      "Index(['Fecha', 'Precio_Apertura', 'Precio_Máximo', 'Precio_Mínimo',\n",
      "       'Precio_Cierre', 'Volumen'],\n",
      "      dtype='object')\n"
     ]
    }
   ],
   "source": [
    "nuevos_nombres = {\n",
    "    \"Date\":\"Fecha\",\n",
    "    \"Open\": \"Precio_Apertura\",\n",
    "    \"High\":\"Precio_Máximo\",\n",
    "    \"Low\": \"Precio_Mínimo\",\n",
    "    \"Close\": \"Precio_Cierre\",\n",
    "    \"Volume\": \"Volumen\"}\n",
    "\n",
    "# Renombrar las columnas en el DataFrame\n",
    "df.rename(columns=nuevos_nombres, inplace=True)\n",
    "\n",
    "# Verificar los nuevos nombres de las columnas\n",
    "print(df.columns)"
   ]
  },
  {
   "cell_type": "markdown",
   "id": "9d9926cf",
   "metadata": {},
   "source": [
    "### Verificamos que se realizo el cambio de nombres de las columnas"
   ]
  },
  {
   "cell_type": "code",
   "execution_count": 41,
   "id": "50c57d25",
   "metadata": {},
   "outputs": [
    {
     "name": "stdout",
     "output_type": "stream",
     "text": [
      "                               Fecha  Precio_Apertura  Precio_Máximo  \\\n",
      "0         lunes, 21 de marzo de 2016        413417999      413417999   \n",
      "1        martes, 22 de marzo de 2016        413131989      418375000   \n",
      "2     miércoles, 23 de marzo de 2016        418161011      419268005   \n",
      "3        jueves, 24 de marzo de 2016        418424011      418679993   \n",
      "4       viernes, 25 de marzo de 2016        416507996      418079987   \n",
      "...                              ...              ...            ...   \n",
      "2855     martes, 16 de enero de 2024      42499335938    43566273438   \n",
      "2856  miércoles, 17 de enero de 2024      43132101563    43189890625   \n",
      "2857     jueves, 18 de enero de 2024      42742312500    42876347656   \n",
      "2858    viernes, 19 de enero de 2024      41278460938    42134160156   \n",
      "2859    domingo, 21 de enero de 2024      41671488281    41693160156   \n",
      "\n",
      "      Precio_Mínimo  Precio_Cierre      Volumen  \n",
      "0         410381012      413307007     61655400  \n",
      "1         412531006      418088989     66813300  \n",
      "2         417364014      418040985     61444200  \n",
      "3         415485992      416394012     68346704  \n",
      "4         415558014      417177002     52560000  \n",
      "...             ...            ...          ...  \n",
      "2855    42085996094    43154945313  24062872740  \n",
      "2856    42189308594    42742652344  20851232595  \n",
      "2857    40631171875    41262058594  25218357242  \n",
      "2858    40297457031    41618406250  25752407154  \n",
      "2859    41615140625    41623695313  11274039296  \n",
      "\n",
      "[2860 rows x 6 columns]\n"
     ]
    }
   ],
   "source": [
    "print(df)"
   ]
  }
 ],
 "metadata": {
  "kernelspec": {
   "display_name": "Python 3 (ipykernel)",
   "language": "python",
   "name": "python3"
  },
  "language_info": {
   "codemirror_mode": {
    "name": "ipython",
    "version": 3
   },
   "file_extension": ".py",
   "mimetype": "text/x-python",
   "name": "python",
   "nbconvert_exporter": "python",
   "pygments_lexer": "ipython3",
   "version": "3.11.7"
  }
 },
 "nbformat": 4,
 "nbformat_minor": 5
}
