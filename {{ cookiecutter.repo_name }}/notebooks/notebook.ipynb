{
 "cells": [
  {
   "cell_type": "markdown",
   "id": "0264059f-08de-4830-8a81-83702abf64f3",
   "metadata": {
    "editable": true,
    "scrolled": true,
    "slideshow": {
     "slide_type": ""
    },
    "tags": []
   },
   "source": [
    "## Importamos las bibliotecas necesarias"
   ]
  },
  {
   "cell_type": "code",
   "execution_count": null,
   "id": "8275b298-9359-4095-8e97-582a26e0a4da",
   "metadata": {
    "editable": true,
    "scrolled": true,
    "slideshow": {
     "slide_type": ""
    },
    "tags": []
   },
   "outputs": [],
   "source": [
    "import pandas as pd\n",
    "import numpy as np    \n",
    "from sklearn.model_selection import train_test_split\n",
    "from sklearn.linear_model import LinearRegression\n",
    "from sklearn.metrics import mean_squared_error, r2_score"
   ]
  },
  {
   "cell_type": "markdown",
   "id": "73eb9edc-e864-4cb8-b142-2fb4f5b0c6bf",
   "metadata": {
    "editable": true,
    "slideshow": {
     "slide_type": ""
    },
    "tags": []
   },
   "source": [
    "# Leemos los datos históricos de BTC desde un archivo CSV "
   ]
  },
  {
   "cell_type": "code",
   "execution_count": null,
   "id": "dd831e60-7d85-4159-8b4a-5d793f3a4351",
   "metadata": {
    "scrolled": true
   },
   "outputs": [],
   "source": [
    "df = pd.read_csv('historico_btc.csv')\n",
    "print(df.head())"
   ]
  },
  {
   "cell_type": "markdown",
   "id": "bf13c34c-cd42-4aa4-a9fe-6697848390da",
   "metadata": {},
   "source": [
    "# Preparamos los datos para el entrenamiento del modelo\n"
   ]
  },
  {
   "cell_type": "code",
   "execution_count": null,
   "id": "1fa5e4f8-cb72-4a65-a8f4-1c5084090e97",
   "metadata": {},
   "outputs": [],
   "source": [
    "X = df.drop('precio_actual', axis=1)\n",
    "y = df['precio_actual']\n"
   ]
  },
  {
   "cell_type": "markdown",
   "id": "ab174e37-cbf9-4f70-a5a9-89578d4b8946",
   "metadata": {},
   "source": [
    "# Dividimos tus datos en conjuntos de entrenamiento y prueba"
   ]
  },
  {
   "cell_type": "code",
   "execution_count": null,
   "id": "24de620c-62d6-4567-a705-9f2d19ae1f6c",
   "metadata": {},
   "outputs": [],
   "source": [
    " X_train, X_test, y_train, y_test = train_test_split(X, y, test_size=.2)\n"
   ]
  },
  {
   "cell_type": "markdown",
   "id": "df65f1ac-b5f6-4186-bcbe-b2975b81f806",
   "metadata": {},
   "source": [
    "# creamos una instancia del modelo de regresión lineal"
   ]
  },
  {
   "cell_type": "code",
   "execution_count": null,
   "id": "63e977f6-5092-4bab-ae60-2cdd0696bc1b",
   "metadata": {},
   "outputs": [],
   "source": [
    " model = LinearRegression()"
   ]
  },
  {
   "cell_type": "markdown",
   "id": "734de2c4-9d90-45d1-86f3-541cc35d4e9b",
   "metadata": {},
   "source": [
    "# Entrena el modelo con el conjunto de entrenamiento"
   ]
  },
  {
   "cell_type": "code",
   "execution_count": null,
   "id": "929b8a3e-76b5-4047-9e03-3893f45e2f7a",
   "metadata": {},
   "outputs": [],
   "source": [
    " model.fit(X_train,y_train)"
   ]
  },
  {
   "cell_type": "markdown",
   "id": "fbc99a43-2faf-40e3-8909-1fccd8f46920",
   "metadata": {},
   "source": [
    "# Realizamos predicciones utilizando el conjunto de prueba"
   ]
  },
  {
   "cell_type": "code",
   "execution_count": null,
   "id": "44c340a5-9efb-4dad-87a2-a50ba445bcd9",
   "metadata": {},
   "outputs": [],
   "source": [
    " predictions = model.predict(X_test)"
   ]
  },
  {
   "cell_type": "markdown",
   "id": "89aa6195-5a9c-4027-9ff7-7a1105acee83",
   "metadata": {},
   "source": [
    "# Evalúa el rendimiento del modelo mediante métricas como el error cuadrático medio (MSE) o la puntuación R-cuadrado (R^2):    "
   ]
  },
  {
   "cell_type": "code",
   "execution_count": null,
   "id": "10a1fe59-4afc-4d4d-8ba0-0161cf4155b4",
   "metadata": {},
   "outputs": [],
   "source": [
    "mse = mean_squared_error(y_test,predictions) r2score=r2_score(y_test,predictions)\n",
    "print(\"Error cuadrático medio:\", mse)\n",
    "print(\"Puntuación R-cuadrado:\", r2score)\n"
   ]
  },
  {
   "cell_type": "code",
   "execution_count": null,
   "id": "de78cafb-ab45-4131-973e-347833a69f9d",
   "metadata": {},
   "outputs": [],
   "source": []
  }
 ],
 "metadata": {
  "kernelspec": {
   "display_name": "Python 3 (ipykernel)",
   "language": "python",
   "name": "python3"
  },
  "language_info": {
   "codemirror_mode": {
    "name": "ipython",
    "version": 3
   },
   "file_extension": ".py",
   "mimetype": "text/x-python",
   "name": "python",
   "nbconvert_exporter": "python",
   "pygments_lexer": "ipython3",
   "version": "3.11.7"
  }
 },
 "nbformat": 4,
 "nbformat_minor": 5
}
