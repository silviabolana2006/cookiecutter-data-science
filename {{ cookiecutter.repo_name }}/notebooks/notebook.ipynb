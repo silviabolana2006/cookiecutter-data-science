{
 "cells": [
  {
   "cell_type": "markdown",
   "id": "0264059f-08de-4830-8a81-83702abf64f3",
   "metadata": {
    "editable": true,
    "scrolled": true,
    "slideshow": {
     "slide_type": ""
    },
    "tags": []
   },
   "source": [
    "## Importamos las bibliotecas necesarias"
   ]
  },
  {
   "cell_type": "code",
   "execution_count": 26,
   "id": "8275b298-9359-4095-8e97-582a26e0a4da",
   "metadata": {
    "editable": true,
    "scrolled": true,
    "slideshow": {
     "slide_type": ""
    },
    "tags": []
   },
   "outputs": [],
   "source": [
    "import pandas as pd\n",
    "import numpy as np    \n",
    "from sklearn.model_selection import train_test_split\n",
    "from sklearn.linear_model import LinearRegression\n",
    "from sklearn.metrics import mean_squared_error, r2_score"
   ]
  },
  {
   "cell_type": "markdown",
   "id": "73eb9edc-e864-4cb8-b142-2fb4f5b0c6bf",
   "metadata": {
    "editable": true,
    "slideshow": {
     "slide_type": ""
    },
    "tags": []
   },
   "source": [
    "### Leemos los datos históricos de BTC desde un archivo CSV "
   ]
  },
  {
   "cell_type": "markdown",
   "id": "e12ae610",
   "metadata": {},
   "source": [
    "muetra las primeras 5 filas"
   ]
  },
  {
   "cell_type": "code",
   "execution_count": 27,
   "id": "0b349875",
   "metadata": {},
   "outputs": [
    {
     "name": "stdout",
     "output_type": "stream",
     "text": [
      "                             Date       Open       High        Low      Close  \\\n",
      "0      lunes, 21 de marzo de 2016  413417999  413417999  410381012  413307007   \n",
      "1     martes, 22 de marzo de 2016  413131989  418375000  412531006  418088989   \n",
      "2  miércoles, 23 de marzo de 2016  418161011  419268005  417364014  418040985   \n",
      "3     jueves, 24 de marzo de 2016  418424011  418679993  415485992  416394012   \n",
      "4    viernes, 25 de marzo de 2016  416507996  418079987  415558014  417177002   \n",
      "\n",
      "     Volume  \n",
      "0  61655400  \n",
      "1  66813300  \n",
      "2  61444200  \n",
      "3  68346704  \n",
      "4  52560000  \n"
     ]
    }
   ],
   "source": [
    "import pandas as pd\n",
    "\n",
    "# Ruta hacia el archivo CSV\n",
    "ruta_archivo = \"C:/Users/SILCA/OneDrive/Escritorio/dataset/BTC-USD.csv\"\n",
    "\n",
    "# Cargar los datos en un DataFrame\n",
    "df = pd.read_csv(ruta_archivo)\n",
    "\n",
    "# Muestra las primeras filas del DataFrame\n",
    "print(df.head())\n"
   ]
  },
  {
   "cell_type": "markdown",
   "id": "bf13c34c-cd42-4aa4-a9fe-6697848390da",
   "metadata": {},
   "source": [
    "# Preparamos los datos para el entrenamiento del modelo\n"
   ]
  },
  {
   "cell_type": "code",
   "execution_count": null,
   "id": "d6c90c88",
   "metadata": {},
   "outputs": [],
   "source": [
    "x = df.drop('open', axis=1)\n",
    "y = df['open']\n",
    "x_train, x_test, y_train, y_test = train_test_split(x, y, test_size=0.2, random_state=42)"
   ]
  },
  {
   "cell_type": "markdown",
   "id": "ab174e37-cbf9-4f70-a5a9-89578d4b8946",
   "metadata": {},
   "source": [
    "# Dividimos tus datos en conjuntos de entrenamiento y prueba"
   ]
  },
  {
   "cell_type": "code",
   "execution_count": null,
   "id": "24de620c-62d6-4567-a705-9f2d19ae1f6c",
   "metadata": {},
   "outputs": [],
   "source": [
    "x_train, x_test, y_train, y_test = train_test_split(x, y, test_size=0.2, random_state=42)\n",
    "\n"
   ]
  },
  {
   "cell_type": "markdown",
   "id": "df65f1ac-b5f6-4186-bcbe-b2975b81f806",
   "metadata": {},
   "source": [
    "# creamos el modelo de regresión lineal"
   ]
  },
  {
   "cell_type": "code",
   "execution_count": null,
   "id": "63e977f6-5092-4bab-ae60-2cdd0696bc1b",
   "metadata": {},
   "outputs": [],
   "source": [
    "modelo = LinearRegression()\n",
    "modelo.fit(x_train, y_train)"
   ]
  },
  {
   "cell_type": "markdown",
   "id": "fbc99a43-2faf-40e3-8909-1fccd8f46920",
   "metadata": {},
   "source": [
    "# Realizamos predicciones utilizando el conjunto de prueba"
   ]
  },
  {
   "cell_type": "code",
   "execution_count": null,
   "id": "44c340a5-9efb-4dad-87a2-a50ba445bcd9",
   "metadata": {},
   "outputs": [],
   "source": [
    " predictions = model.predict(X_test)"
   ]
  },
  {
   "cell_type": "markdown",
   "id": "89aa6195-5a9c-4027-9ff7-7a1105acee83",
   "metadata": {},
   "source": [
    "# Evalúa el rendimiento del modelo mediante métricas como el error cuadrático medio (MSE) o la puntuación R-cuadrado (R^2):    "
   ]
  },
  {
   "cell_type": "code",
   "execution_count": null,
   "id": "10a1fe59-4afc-4d4d-8ba0-0161cf4155b4",
   "metadata": {},
   "outputs": [],
   "source": [
    "print(\"Error cuadrático medio:\", mean_squared_error(y_test, y_pred))\n",
    "print(\"Coeficiente de determinación (R2):\", r2_score(y_test, y_pred))\n"
   ]
  },
  {
   "cell_type": "code",
   "execution_count": null,
   "id": "de78cafb-ab45-4131-973e-347833a69f9d",
   "metadata": {},
   "outputs": [],
   "source": []
  }
 ],
 "metadata": {
  "kernelspec": {
   "display_name": "Python 3 (ipykernel)",
   "language": "python",
   "name": "python3"
  },
  "language_info": {
   "codemirror_mode": {
    "name": "ipython",
    "version": 3
   },
   "file_extension": ".py",
   "mimetype": "text/x-python",
   "name": "python",
   "nbconvert_exporter": "python",
   "pygments_lexer": "ipython3",
   "version": "3.11.7"
  }
 },
 "nbformat": 4,
 "nbformat_minor": 5
}
