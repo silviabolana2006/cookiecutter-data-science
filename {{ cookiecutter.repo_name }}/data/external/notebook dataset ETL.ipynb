{
 "cells": [
  {
   "cell_type": "markdown",
   "id": "0264059f-08de-4830-8a81-83702abf64f3",
   "metadata": {
    "editable": true,
    "scrolled": true,
    "slideshow": {
     "slide_type": ""
    },
    "tags": []
   },
   "source": [
    "## Importamos las bibliotecas necesarias"
   ]
  },
  {
   "cell_type": "code",
   "execution_count": 26,
   "id": "8275b298-9359-4095-8e97-582a26e0a4da",
   "metadata": {
    "editable": true,
    "scrolled": true,
    "slideshow": {
     "slide_type": ""
    },
    "tags": []
   },
   "outputs": [],
   "source": [
    "import pandas as pd\n",
    "import numpy as np    \n",
    "from sklearn.model_selection import train_test_split\n",
    "from sklearn.linear_model import LinearRegression\n",
    "from sklearn.metrics import mean_squared_error, r2_score"
   ]
  },
  {
   "cell_type": "markdown",
   "id": "73eb9edc-e864-4cb8-b142-2fb4f5b0c6bf",
   "metadata": {
    "editable": true,
    "slideshow": {
     "slide_type": ""
    },
    "tags": []
   },
   "source": [
    "### Leemos los datos históricos de BTC desde un archivo CSV "
   ]
  },
  {
   "cell_type": "markdown",
   "id": "e12ae610",
   "metadata": {},
   "source": [
    "muetra las primeras 5 filas"
   ]
  },
  {
   "cell_type": "code",
   "execution_count": 27,
   "id": "0b349875",
   "metadata": {},
   "outputs": [
    {
     "name": "stdout",
     "output_type": "stream",
     "text": [
      "                             Date       Open       High        Low      Close  \\\n",
      "0      lunes, 21 de marzo de 2016  413417999  413417999  410381012  413307007   \n",
      "1     martes, 22 de marzo de 2016  413131989  418375000  412531006  418088989   \n",
      "2  miércoles, 23 de marzo de 2016  418161011  419268005  417364014  418040985   \n",
      "3     jueves, 24 de marzo de 2016  418424011  418679993  415485992  416394012   \n",
      "4    viernes, 25 de marzo de 2016  416507996  418079987  415558014  417177002   \n",
      "\n",
      "     Volume  \n",
      "0  61655400  \n",
      "1  66813300  \n",
      "2  61444200  \n",
      "3  68346704  \n",
      "4  52560000  \n"
     ]
    }
   ],
   "source": [
    "import pandas as pd\n",
    "\n",
    "# Ruta hacia el archivo CSV\n",
    "ruta_archivo = \"C:/Users/SILCA/OneDrive/Escritorio/dataset/BTC-USD.csv\"\n",
    "\n",
    "# Cargar los datos en un DataFrame\n",
    "df = pd.read_csv(ruta_archivo)\n",
    "\n",
    "# Muestra las primeras filas del DataFrame\n",
    "print(df.head())\n"
   ]
  }
 ],
 "metadata": {
  "kernelspec": {
   "display_name": "Python 3 (ipykernel)",
   "language": "python",
   "name": "python3"
  },
  "language_info": {
   "codemirror_mode": {
    "name": "ipython",
    "version": 3
   },
   "file_extension": ".py",
   "mimetype": "text/x-python",
   "name": "python",
   "nbconvert_exporter": "python",
   "pygments_lexer": "ipython3",
   "version": "3.11.7"
  }
 },
 "nbformat": 4,
 "nbformat_minor": 5
}
